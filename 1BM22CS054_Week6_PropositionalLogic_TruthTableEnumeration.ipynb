{
  "nbformat": 4,
  "nbformat_minor": 0,
  "metadata": {
    "colab": {
      "provenance": [],
      "authorship_tag": "ABX9TyOKmkjqgel8iVUsIA1/PlFb",
      "include_colab_link": true
    },
    "kernelspec": {
      "name": "python3",
      "display_name": "Python 3"
    },
    "language_info": {
      "name": "python"
    }
  },
  "cells": [
    {
      "cell_type": "markdown",
      "metadata": {
        "id": "view-in-github",
        "colab_type": "text"
      },
      "source": [
        "<a href=\"https://colab.research.google.com/github/hamsika04/5A_AILAB/blob/main/1BM22CS054_Week6_PropositionalLogic_TruthTableEnumeration.ipynb\" target=\"_parent\"><img src=\"https://colab.research.google.com/assets/colab-badge.svg\" alt=\"Open In Colab\"/></a>"
      ]
    },
    {
      "cell_type": "code",
      "source": [
        "kb = \"(not q or p) and (not p or not q) and (q or r)\"\n"
      ],
      "metadata": {
        "id": "qIfTbjtgoA29"
      },
      "execution_count": 4,
      "outputs": []
    },
    {
      "cell_type": "code",
      "source": [
        "from itertools import product\n",
        "\n",
        "# Function to evaluate KB and Query\n",
        "def evaluate_kb_and_query(variables):\n",
        "    p = variables['p']\n",
        "    q = variables['q']\n",
        "    r = variables['r']\n",
        "\n",
        "    # Define the KB and Query based on the logical operations\n",
        "    kb = (not q or p) and (not p or not q) and (q or r)\n",
        "    query = r\n",
        "\n",
        "    return kb, query\n",
        "\n",
        "# Function to generate the truth table for a list of propositions and a KB (knowledge base)\n",
        "def generate_truth_table(propositions):\n",
        "    # Generate all possible combinations of truth values for the propositions\n",
        "    truth_values = list(product([True, False], repeat=len(propositions)))\n",
        "\n",
        "    # Header for the truth table\n",
        "    header = ' | '.join(propositions) + ' | KB | Query'\n",
        "    print(header)\n",
        "    print('-' * (len(header) + 3))\n",
        "\n",
        "    entailment = True\n",
        "\n",
        "    # Evaluate the knowledge base and query for each combination of truth values\n",
        "    for values in truth_values:\n",
        "        # Map each proposition to its current truth value\n",
        "        variables = dict(zip(propositions, values))\n",
        "\n",
        "        # Evaluate KB and query for the current truth values\n",
        "        kb_value, query_value = evaluate_kb_and_query(variables)\n",
        "\n",
        "        # Print row for the current combination of truth values\n",
        "        row = ' | '.join(['T' if variables[prop] else 'F' for prop in propositions])\n",
        "        row += f\" | {'T' if kb_value else 'F'} | {'T' if query_value else 'F'}\"\n",
        "        print(row)\n",
        "\n",
        "        # Check entailment: if KB is true but Query is false, KB does not entail Query\n",
        "        if kb_value and not query_value:\n",
        "            entailment = False\n",
        "\n",
        "    print(\"\\nDoes KB entail the query?\", \"Yes\" if entailment else \"No\")\n",
        "\n",
        "# Example Usage\n",
        "propositions = ['p', 'q', 'r']  # List of propositions\n",
        "\n",
        "generate_truth_table(propositions)\n"
      ],
      "metadata": {
        "colab": {
          "base_uri": "https://localhost:8080/"
        },
        "id": "THyZP1IVo-EL",
        "outputId": "04b1ed51-0102-4f36-8ae3-2817d237fe16"
      },
      "execution_count": 6,
      "outputs": [
        {
          "output_type": "stream",
          "name": "stdout",
          "text": [
            "p | q | r | KB | Query\n",
            "-------------------------\n",
            "T | T | T | F | T\n",
            "T | T | F | F | F\n",
            "T | F | T | T | T\n",
            "T | F | F | F | F\n",
            "F | T | T | F | T\n",
            "F | T | F | F | F\n",
            "F | F | T | T | T\n",
            "F | F | F | F | F\n",
            "\n",
            "Does KB entail the query? Yes\n"
          ]
        }
      ]
    },
    {
      "cell_type": "code",
      "source": [
        "import itertools\n",
        "\n",
        "# Define the conditions based on the problem\n",
        "def cond1(p, q):\n",
        "    return (not q) or p  # ¬q ∨ p\n",
        "\n",
        "def cond2(p, q):\n",
        "    return (not p) or (not q)  # ¬p ∨ ¬q\n",
        "\n",
        "def cond3(q, r):\n",
        "    return q or r  # q ∨ r\n",
        "\n",
        "# Evaluate the KB based on the three conditions\n",
        "def evaluate_kb(p, q, r):\n",
        "    return cond1(p, q) and cond2(p, q) and cond3(q, r)\n",
        "\n",
        "# Generate truth table for all combinations of p, q, r\n",
        "def generate_truth_table():\n",
        "    propositions = ['p', 'q', 'r']\n",
        "    table = []\n",
        "\n",
        "    # Create all combinations of p, q, r (True/False)\n",
        "    for p, q, r in itertools.product([True, False], repeat=3):\n",
        "        # Evaluate conditions\n",
        "        c1 = cond1(p, q)\n",
        "        c2 = cond2(p, q)\n",
        "        c3 = cond3(q, r)\n",
        "        kb = evaluate_kb(p, q, r)\n",
        "        query = r  # Query is just the value of r\n",
        "\n",
        "        # Append row to the table\n",
        "        table.append([p, q, r, c1, c2, c3, kb, query])\n",
        "\n",
        "    return table\n",
        "\n",
        "# Function to print the truth table\n",
        "def print_truth_table():\n",
        "    table = generate_truth_table()\n",
        "    print(f\"{'p':<5}{'q':<5}{'r':<5}{'cond1 (¬q ∨ p)':<20}{'cond2 (¬p ∨ ¬q)':<20}{'cond3 (q ∨ r)':<20}{'KB (cond1 ∧ cond2 ∧ cond3)':<30}{'Query (r)'}\")\n",
        "    print(\"-\" * 120)\n",
        "    for row in table:\n",
        "        print(f\"{row[0]:<5}{row[1]:<5}{row[2]:<5}{row[3]:<20}{row[4]:<20}{row[5]:<20}{row[6]:<30}{row[7]}\")\n",
        "\n",
        "# Check if KB entails the query (r)\n",
        "def kb_entails_query():\n",
        "    table = generate_truth_table()\n",
        "    entails = True\n",
        "    for row in table:\n",
        "        if row[6] == True:  # If KB is true\n",
        "            if row[7] == False:  # Check if the query r is false in this case\n",
        "                entails = False\n",
        "                break\n",
        "    return entails\n",
        "\n",
        "# Print the truth table\n",
        "print_truth_table()\n",
        "\n",
        "# Check if KB entails the query (r)\n",
        "if kb_entails_query():\n",
        "    print(\"\\nKB entails the query r.\")\n",
        "else:\n",
        "    print(\"\\nKB does NOT entail the query r.\")\n"
      ],
      "metadata": {
        "colab": {
          "base_uri": "https://localhost:8080/"
        },
        "id": "mPqmaih2r24y",
        "outputId": "5d6d1746-5fcc-4808-97d4-1c5787284b18"
      },
      "execution_count": 7,
      "outputs": [
        {
          "output_type": "stream",
          "name": "stdout",
          "text": [
            "p    q    r    cond1 (¬q ∨ p)      cond2 (¬p ∨ ¬q)     cond3 (q ∨ r)       KB (cond1 ∧ cond2 ∧ cond3)    Query (r)\n",
            "------------------------------------------------------------------------------------------------------------------------\n",
            "1    1    1    1                   0                   1                   0                             True\n",
            "1    1    0    1                   0                   1                   0                             False\n",
            "1    0    1    1                   1                   1                   1                             True\n",
            "1    0    0    1                   1                   0                   0                             False\n",
            "0    1    1    0                   1                   1                   0                             True\n",
            "0    1    0    0                   1                   1                   0                             False\n",
            "0    0    1    1                   1                   1                   1                             True\n",
            "0    0    0    1                   1                   0                   0                             False\n",
            "\n",
            "KB entails the query r.\n"
          ]
        }
      ]
    }
  ]
}