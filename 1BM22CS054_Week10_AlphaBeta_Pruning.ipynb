{
  "nbformat": 4,
  "nbformat_minor": 0,
  "metadata": {
    "colab": {
      "provenance": [],
      "authorship_tag": "ABX9TyOWYPmHEKhi9jiZuL7aJPxq",
      "include_colab_link": true
    },
    "kernelspec": {
      "name": "python3",
      "display_name": "Python 3"
    },
    "language_info": {
      "name": "python"
    }
  },
  "cells": [
    {
      "cell_type": "markdown",
      "metadata": {
        "id": "view-in-github",
        "colab_type": "text"
      },
      "source": [
        "<a href=\"https://colab.research.google.com/github/hamsika04/5A_AILAB/blob/main/1BM22CS054_Week10_AlphaBeta_Pruning.ipynb\" target=\"_parent\"><img src=\"https://colab.research.google.com/assets/colab-badge.svg\" alt=\"Open In Colab\"/></a>"
      ]
    },
    {
      "cell_type": "code",
      "source": [
        "import math\n",
        "\n",
        "def alpha_beta_pruning(node, depth, alpha, beta, maximizing_player):\n",
        "    \"\"\"\n",
        "    Perform Alpha-Beta Pruning on a game tree.\n",
        "\n",
        "    Parameters:\n",
        "    - node: The current node in the tree (could be a list of child nodes or a value).\n",
        "    - depth: The depth of the current node.\n",
        "    - alpha: The best value that the maximizer can guarantee.\n",
        "    - beta: The best value that the minimizer can guarantee.\n",
        "    - maximizing_player: Boolean indicating if it's the maximizer's turn.\n",
        "\n",
        "    Returns:\n",
        "    - The best value for the current player at this node.\n",
        "    \"\"\"\n",
        "    if depth == 0 or isinstance(node, int):  # Leaf node or max depth reached\n",
        "        return node\n",
        "\n",
        "    if maximizing_player:\n",
        "        max_eval = -math.inf\n",
        "        for child in node:\n",
        "            eval = alpha_beta_pruning(child, depth - 1, alpha, beta, False)\n",
        "            max_eval = max(max_eval, eval)\n",
        "            alpha = max(alpha, eval)\n",
        "            if beta <= alpha:\n",
        "                break  # Beta cutoff\n",
        "        return max_eval\n",
        "    else:\n",
        "        min_eval = math.inf\n",
        "        for child in node:\n",
        "            eval = alpha_beta_pruning(child, depth - 1, alpha, beta, True)\n",
        "            min_eval = min(min_eval, eval)\n",
        "            beta = min(beta, eval)\n",
        "            if beta <= alpha:\n",
        "                break  # Alpha cutoff\n",
        "        return min_eval\n",
        "\n",
        "# Example usage\n",
        "def main():\n",
        "    \"\"\"\n",
        "    Example game tree (4 levels):\n",
        "          MAX\n",
        "        /     \\\n",
        "      MIN      MIN\n",
        "     /  \\    /  \\\n",
        "    MAX  MAX  MAX  MAX\n",
        "    |    |    |    |\n",
        "    10   9   14    18\n",
        "    \"\"\"\n",
        "    game_tree = [\n",
        "        [\n",
        "            [10, 9],   # First branch (MAX -> 10 or 9)\n",
        "            [14, 18]   # Second branch (MAX -> 14 or 18)\n",
        "        ],\n",
        "        [\n",
        "            [5, 4],    # Third branch (MAX -> 5 or 4)\n",
        "            [50, 3]    # Fourth branch (MAX -> 50 or 3)\n",
        "        ]\n",
        "    ]\n",
        "\n",
        "    result = alpha_beta_pruning(game_tree, depth=3, alpha=-math.inf, beta=math.inf, maximizing_player=True)\n",
        "    print(\"Optimal value for the root node:\", result)\n",
        "\n",
        "if __name__ == \"__main__\":\n",
        "    main()\n"
      ],
      "metadata": {
        "colab": {
          "base_uri": "https://localhost:8080/"
        },
        "id": "6sHtreyvyCRv",
        "outputId": "a698b8a0-47ef-4089-d867-aeb3468fe06f"
      },
      "execution_count": 4,
      "outputs": [
        {
          "output_type": "stream",
          "name": "stdout",
          "text": [
            "Optimal value for the root node: 10\n"
          ]
        }
      ]
    }
  ]
}